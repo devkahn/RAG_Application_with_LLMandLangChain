{
 "cells": [
  {
   "cell_type": "markdown",
   "metadata": {},
   "source": [
    "# [실습] OpenAI API와 Tool Calling을 이용한 뉴스 요약 봇 만들기\n",
    "- OpenAI API를 통해 OpenAI의 기능을 호출하고 활용"
   ]
  },
  {
   "cell_type": "markdown",
   "metadata": {},
   "source": [
    "## 환경 구성하기"
   ]
  },
  {
   "cell_type": "code",
   "execution_count": 1,
   "metadata": {},
   "outputs": [
    {
     "name": "stdout",
     "output_type": "stream",
     "text": [
      "Requirement already satisfied: openai in c:\\users\\h2500009\\appdata\\local\\programs\\python\\python313\\lib\\site-packages (1.61.0)\n",
      "Collecting openai\n",
      "  Downloading openai-1.61.1-py3-none-any.whl.metadata (27 kB)\n",
      "Requirement already satisfied: tiktoken in c:\\users\\h2500009\\appdata\\local\\programs\\python\\python313\\lib\\site-packages (0.8.0)\n",
      "Requirement already satisfied: anyio<5,>=3.5.0 in c:\\users\\h2500009\\appdata\\local\\programs\\python\\python313\\lib\\site-packages (from openai) (4.8.0)\n",
      "Requirement already satisfied: distro<2,>=1.7.0 in c:\\users\\h2500009\\appdata\\local\\programs\\python\\python313\\lib\\site-packages (from openai) (1.9.0)\n",
      "Requirement already satisfied: httpx<1,>=0.23.0 in c:\\users\\h2500009\\appdata\\local\\programs\\python\\python313\\lib\\site-packages (from openai) (0.28.1)\n",
      "Requirement already satisfied: jiter<1,>=0.4.0 in c:\\users\\h2500009\\appdata\\local\\programs\\python\\python313\\lib\\site-packages (from openai) (0.8.2)\n",
      "Requirement already satisfied: pydantic<3,>=1.9.0 in c:\\users\\h2500009\\appdata\\local\\programs\\python\\python313\\lib\\site-packages (from openai) (2.10.5)\n",
      "Requirement already satisfied: sniffio in c:\\users\\h2500009\\appdata\\local\\programs\\python\\python313\\lib\\site-packages (from openai) (1.3.1)\n",
      "Requirement already satisfied: tqdm>4 in c:\\users\\h2500009\\appdata\\local\\programs\\python\\python313\\lib\\site-packages (from openai) (4.67.1)\n",
      "Requirement already satisfied: typing-extensions<5,>=4.11 in c:\\users\\h2500009\\appdata\\local\\programs\\python\\python313\\lib\\site-packages (from openai) (4.12.2)\n",
      "Requirement already satisfied: regex>=2022.1.18 in c:\\users\\h2500009\\appdata\\local\\programs\\python\\python313\\lib\\site-packages (from tiktoken) (2024.11.6)\n",
      "Requirement already satisfied: requests>=2.26.0 in c:\\users\\h2500009\\appdata\\local\\programs\\python\\python313\\lib\\site-packages (from tiktoken) (2.32.3)\n",
      "Requirement already satisfied: idna>=2.8 in c:\\users\\h2500009\\appdata\\local\\programs\\python\\python313\\lib\\site-packages (from anyio<5,>=3.5.0->openai) (3.10)\n",
      "Requirement already satisfied: certifi in c:\\users\\h2500009\\appdata\\local\\programs\\python\\python313\\lib\\site-packages (from httpx<1,>=0.23.0->openai) (2024.12.14)\n",
      "Requirement already satisfied: httpcore==1.* in c:\\users\\h2500009\\appdata\\local\\programs\\python\\python313\\lib\\site-packages (from httpx<1,>=0.23.0->openai) (1.0.7)\n",
      "Requirement already satisfied: h11<0.15,>=0.13 in c:\\users\\h2500009\\appdata\\local\\programs\\python\\python313\\lib\\site-packages (from httpcore==1.*->httpx<1,>=0.23.0->openai) (0.14.0)\n",
      "Requirement already satisfied: annotated-types>=0.6.0 in c:\\users\\h2500009\\appdata\\local\\programs\\python\\python313\\lib\\site-packages (from pydantic<3,>=1.9.0->openai) (0.7.0)\n",
      "Requirement already satisfied: pydantic-core==2.27.2 in c:\\users\\h2500009\\appdata\\local\\programs\\python\\python313\\lib\\site-packages (from pydantic<3,>=1.9.0->openai) (2.27.2)\n",
      "Requirement already satisfied: charset-normalizer<4,>=2 in c:\\users\\h2500009\\appdata\\local\\programs\\python\\python313\\lib\\site-packages (from requests>=2.26.0->tiktoken) (3.4.1)\n",
      "Requirement already satisfied: urllib3<3,>=1.21.1 in c:\\users\\h2500009\\appdata\\local\\programs\\python\\python313\\lib\\site-packages (from requests>=2.26.0->tiktoken) (2.3.0)\n",
      "Requirement already satisfied: colorama in c:\\users\\h2500009\\appdata\\local\\programs\\python\\python313\\lib\\site-packages (from tqdm>4->openai) (0.4.6)\n",
      "Downloading openai-1.61.1-py3-none-any.whl (463 kB)\n",
      "Installing collected packages: openai\n",
      "  Attempting uninstall: openai\n",
      "    Found existing installation: openai 1.61.0\n",
      "    Uninstalling openai-1.61.0:\n",
      "      Successfully uninstalled openai-1.61.0\n",
      "Successfully installed openai-1.61.1\n"
     ]
    },
    {
     "name": "stderr",
     "output_type": "stream",
     "text": [
      "\n",
      "[notice] A new release of pip is available: 24.3.1 -> 25.0\n",
      "[notice] To update, run: python.exe -m pip install --upgrade pip\n"
     ]
    }
   ],
   "source": [
    "# openai API 라이브러리 설치\n",
    "!pip install openai tiktoken --upgrade"
   ]
  },
  {
   "cell_type": "code",
   "execution_count": 2,
   "metadata": {},
   "outputs": [
    {
     "name": "stdout",
     "output_type": "stream",
     "text": [
      "OPENAI_API_KEY가 유효하지 않습니다.\n"
     ]
    }
   ],
   "source": [
    "# 라이브러리 로드\n",
    "import openai\n",
    "import os\n",
    "\n",
    "# openai api key 설정\n",
    "os.environ['OPENAI_API_KEY']  = \"\"\n",
    "client = openai.OpenAI()\n",
    "\n",
    "# API키 검증하기\n",
    "try : client.models.lis(); print(\"OPENAI_API_KEY가 정상적으로 설정되어 있습니다.\")\n",
    "except: print(f\"OPENAI_API_KEY가 유효하지 않습니다.\")"
   ]
  },
  {
   "cell_type": "markdown",
   "metadata": {},
   "source": [
    "### 1. LLM으로 웹 크롤링 코드 구현 프롬프트 만들기\n",
    "  - 네이버 뉴스 API를 이용해 크롤링을 수행하는 파이썬 코드\n",
    "  - 검색어가 query인수로 주어지면, 관련도순으로 검색된 뉴스기사 30개의 정보를 전달하는 함수를 요청\n",
    "  - 네이버 뉴스 API를 사용한다는 내용을 명시하면 정확도가 상승함"
   ]
  },
  {
   "cell_type": "code",
   "execution_count": null,
   "metadata": {},
   "outputs": [],
   "source": [
    "prompt = '''\n",
    "네이버 뉴스 API를 이용해 크롤링을 수행하는 파이썬 코드를 작성해 주세요.\n",
    "검색어가 'query'인수로 주어지면, 관련도순으로 검색된 \n",
    "뉴스 기사 30개의 정보를 아래 포맷의 문자열로 변환하는 함수 get_news(query)를 만들어 주세요.\n",
    "---\n",
    "제목 : (뉴스 제목)\n",
    "URL : (뉴스 링크)\n",
    "내용 : (뉴스 내용)\n",
    "---\n",
    "\n",
    "\n",
    "# 검색어\n",
    "query  ='생성형 AI'\n",
    "\n",
    "# 검색 결과를 return하는 함수\n",
    "def get_news(query):\n",
    "...\n",
    "\n",
    "result = get_news(query)\n",
    "print(result)\n",
    "\n",
    "'''"
   ]
  },
  {
   "cell_type": "code",
   "execution_count": null,
   "metadata": {},
   "outputs": [],
   "source": [
    "response = client.chat.completions.create(\n",
    "    model = \"gpt-4o-mini\",\n",
    "    messages=[\n",
    "        {\n",
    "            \"role\":'system',\n",
    "            'content' :'당신은 파이썬 코딩의 전문가입니다. 설명 없이 코드만 출력해주세요.'\n",
    "        },\n",
    "        {\n",
    "            'role' : 'user',\n",
    "            'content' : prompt\n",
    "        }\n",
    "    ]\n",
    ")"
   ]
  },
  {
   "cell_type": "code",
   "execution_count": null,
   "metadata": {},
   "outputs": [],
   "source": [
    "import requests\n",
    "\n",
    "# 네이버 개발자 센터에서 발급받은 Client ID와 Client Secret을 입력합니다.\n",
    "CLIENT_ID = 'your_client_id'  # 본인의 Client ID로 변경\n",
    "CLIENT_SECRET = 'your_client_secret'  # 본인의 Client Secret으로 변경\n",
    "\n",
    "# 검색어(query)를 입력받아 관련 뉴스 30개를 가져오는 함수\n",
    "def get_news(query):\n",
    "    url = \"https://openapi.naver.com/v1/search/news.json\"\n",
    "    \n",
    "    params = {\n",
    "        'query': query,  # 검색어\n",
    "        'display': 30,    # 검색 결과 수 (최대 30개)\n",
    "        'sort': 'sim'     # 관련도순으로 정렬 (기본값은 'sim', 관련도순)\n",
    "    }\n",
    "    \n",
    "    headers = {\n",
    "        'X-Naver-Client-Id': CLIENT_ID,\n",
    "        'X-Naver-Client-Secret': CLIENT_SECRET\n",
    "    }\n",
    "    \n",
    "    # 네이버 API 호출\n",
    "    response = requests.get(url, headers=headers, params=params)\n",
    "    \n",
    "    # 응답이 성공적이면\n",
    "    if response.status_code == 200:\n",
    "        news_items = response.json().get('items', [])\n",
    "        \n",
    "        # 뉴스 기사 정보를 포맷에 맞게 출력\n",
    "        result = \"\"\n",
    "        for item in news_items:\n",
    "            title = item['title'].replace('<b>', '').replace('</b>', '')  # 제목에서 HTML 태그 제거\n",
    "            link = item['link']\n",
    "            description = item['description'].replace('<b>', '').replace('</b>', '')  # 내용에서 HTML 태그 제거\n",
    "            \n",
    "            result += f\"제목 : {title}\\nURL : {link}\\n내용 : {description}\\n---\\n\"\n",
    "        \n",
    "        return result\n",
    "    else:\n",
    "        return f\"Error: {response.status_code}\"\n",
    "\n",
    "# 검색어 예시\n",
    "query = '생성형 AI'\n",
    "result = get_news(query)\n",
    "print(result)"
   ]
  },
  {
   "cell_type": "markdown",
   "metadata": {},
   "source": [
    "### OpenAI API를 이용하여 요약하기\n",
    "   - 실제로는 각각의 URL에 접속해서 뉴스 링크를 가져오는 것이 일반적이지만, 간단하게 검색 결과만을 활용한는 코드를 만든다.\n",
    "   - query에 대한 뉴스 검색 결과를 요약"
   ]
  },
  {
   "cell_type": "code",
   "execution_count": null,
   "metadata": {},
   "outputs": [],
   "source": []
  }
 ],
 "metadata": {
  "kernelspec": {
   "display_name": "Python 3",
   "language": "python",
   "name": "python3"
  },
  "language_info": {
   "codemirror_mode": {
    "name": "ipython",
    "version": 3
   },
   "file_extension": ".py",
   "mimetype": "text/x-python",
   "name": "python",
   "nbconvert_exporter": "python",
   "pygments_lexer": "ipython3",
   "version": "3.13.1"
  }
 },
 "nbformat": 4,
 "nbformat_minor": 2
}
